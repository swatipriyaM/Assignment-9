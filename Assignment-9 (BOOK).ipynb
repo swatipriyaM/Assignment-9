{
 "cells": [
  {
   "cell_type": "code",
   "execution_count": 273,
   "id": "74db37dd",
   "metadata": {},
   "outputs": [],
   "source": [
    "#import libreries\n",
    "import pandas as pd\n",
    "import numpy as np\n",
    "import matplotlib.pyplot as plt"
   ]
  },
  {
   "cell_type": "code",
   "execution_count": 274,
   "id": "81bbf1e7",
   "metadata": {},
   "outputs": [],
   "source": [
    "#load the data set\n",
    "dataset=pd.read_csv(\"book.csv\")"
   ]
  },
  {
   "cell_type": "code",
   "execution_count": 275,
   "id": "e8c6f281",
   "metadata": {},
   "outputs": [
    {
     "data": {
      "text/html": [
       "<div>\n",
       "<style scoped>\n",
       "    .dataframe tbody tr th:only-of-type {\n",
       "        vertical-align: middle;\n",
       "    }\n",
       "\n",
       "    .dataframe tbody tr th {\n",
       "        vertical-align: top;\n",
       "    }\n",
       "\n",
       "    .dataframe thead th {\n",
       "        text-align: right;\n",
       "    }\n",
       "</style>\n",
       "<table border=\"1\" class=\"dataframe\">\n",
       "  <thead>\n",
       "    <tr style=\"text-align: right;\">\n",
       "      <th></th>\n",
       "      <th>ChildBks</th>\n",
       "      <th>YouthBks</th>\n",
       "      <th>CookBks</th>\n",
       "      <th>DoItYBks</th>\n",
       "      <th>RefBks</th>\n",
       "      <th>ArtBks</th>\n",
       "      <th>GeogBks</th>\n",
       "      <th>ItalCook</th>\n",
       "      <th>ItalAtlas</th>\n",
       "      <th>ItalArt</th>\n",
       "      <th>Florence</th>\n",
       "    </tr>\n",
       "  </thead>\n",
       "  <tbody>\n",
       "    <tr>\n",
       "      <th>0</th>\n",
       "      <td>0</td>\n",
       "      <td>1</td>\n",
       "      <td>0</td>\n",
       "      <td>1</td>\n",
       "      <td>0</td>\n",
       "      <td>0</td>\n",
       "      <td>1</td>\n",
       "      <td>0</td>\n",
       "      <td>0</td>\n",
       "      <td>0</td>\n",
       "      <td>0</td>\n",
       "    </tr>\n",
       "    <tr>\n",
       "      <th>1</th>\n",
       "      <td>1</td>\n",
       "      <td>0</td>\n",
       "      <td>0</td>\n",
       "      <td>0</td>\n",
       "      <td>0</td>\n",
       "      <td>0</td>\n",
       "      <td>0</td>\n",
       "      <td>0</td>\n",
       "      <td>0</td>\n",
       "      <td>0</td>\n",
       "      <td>0</td>\n",
       "    </tr>\n",
       "    <tr>\n",
       "      <th>2</th>\n",
       "      <td>0</td>\n",
       "      <td>0</td>\n",
       "      <td>0</td>\n",
       "      <td>0</td>\n",
       "      <td>0</td>\n",
       "      <td>0</td>\n",
       "      <td>0</td>\n",
       "      <td>0</td>\n",
       "      <td>0</td>\n",
       "      <td>0</td>\n",
       "      <td>0</td>\n",
       "    </tr>\n",
       "    <tr>\n",
       "      <th>3</th>\n",
       "      <td>1</td>\n",
       "      <td>1</td>\n",
       "      <td>1</td>\n",
       "      <td>0</td>\n",
       "      <td>1</td>\n",
       "      <td>0</td>\n",
       "      <td>1</td>\n",
       "      <td>0</td>\n",
       "      <td>0</td>\n",
       "      <td>0</td>\n",
       "      <td>0</td>\n",
       "    </tr>\n",
       "    <tr>\n",
       "      <th>4</th>\n",
       "      <td>0</td>\n",
       "      <td>0</td>\n",
       "      <td>1</td>\n",
       "      <td>0</td>\n",
       "      <td>0</td>\n",
       "      <td>0</td>\n",
       "      <td>1</td>\n",
       "      <td>0</td>\n",
       "      <td>0</td>\n",
       "      <td>0</td>\n",
       "      <td>0</td>\n",
       "    </tr>\n",
       "    <tr>\n",
       "      <th>...</th>\n",
       "      <td>...</td>\n",
       "      <td>...</td>\n",
       "      <td>...</td>\n",
       "      <td>...</td>\n",
       "      <td>...</td>\n",
       "      <td>...</td>\n",
       "      <td>...</td>\n",
       "      <td>...</td>\n",
       "      <td>...</td>\n",
       "      <td>...</td>\n",
       "      <td>...</td>\n",
       "    </tr>\n",
       "    <tr>\n",
       "      <th>1995</th>\n",
       "      <td>0</td>\n",
       "      <td>0</td>\n",
       "      <td>1</td>\n",
       "      <td>0</td>\n",
       "      <td>0</td>\n",
       "      <td>1</td>\n",
       "      <td>1</td>\n",
       "      <td>1</td>\n",
       "      <td>0</td>\n",
       "      <td>1</td>\n",
       "      <td>1</td>\n",
       "    </tr>\n",
       "    <tr>\n",
       "      <th>1996</th>\n",
       "      <td>0</td>\n",
       "      <td>0</td>\n",
       "      <td>0</td>\n",
       "      <td>0</td>\n",
       "      <td>0</td>\n",
       "      <td>0</td>\n",
       "      <td>0</td>\n",
       "      <td>0</td>\n",
       "      <td>0</td>\n",
       "      <td>0</td>\n",
       "      <td>0</td>\n",
       "    </tr>\n",
       "    <tr>\n",
       "      <th>1997</th>\n",
       "      <td>0</td>\n",
       "      <td>0</td>\n",
       "      <td>0</td>\n",
       "      <td>0</td>\n",
       "      <td>0</td>\n",
       "      <td>0</td>\n",
       "      <td>0</td>\n",
       "      <td>0</td>\n",
       "      <td>0</td>\n",
       "      <td>0</td>\n",
       "      <td>0</td>\n",
       "    </tr>\n",
       "    <tr>\n",
       "      <th>1998</th>\n",
       "      <td>0</td>\n",
       "      <td>0</td>\n",
       "      <td>1</td>\n",
       "      <td>0</td>\n",
       "      <td>0</td>\n",
       "      <td>0</td>\n",
       "      <td>0</td>\n",
       "      <td>0</td>\n",
       "      <td>0</td>\n",
       "      <td>0</td>\n",
       "      <td>0</td>\n",
       "    </tr>\n",
       "    <tr>\n",
       "      <th>1999</th>\n",
       "      <td>0</td>\n",
       "      <td>0</td>\n",
       "      <td>0</td>\n",
       "      <td>0</td>\n",
       "      <td>0</td>\n",
       "      <td>0</td>\n",
       "      <td>0</td>\n",
       "      <td>0</td>\n",
       "      <td>0</td>\n",
       "      <td>0</td>\n",
       "      <td>0</td>\n",
       "    </tr>\n",
       "  </tbody>\n",
       "</table>\n",
       "<p>2000 rows × 11 columns</p>\n",
       "</div>"
      ],
      "text/plain": [
       "      ChildBks  YouthBks  CookBks  DoItYBks  RefBks  ArtBks  GeogBks  \\\n",
       "0            0         1        0         1       0       0        1   \n",
       "1            1         0        0         0       0       0        0   \n",
       "2            0         0        0         0       0       0        0   \n",
       "3            1         1        1         0       1       0        1   \n",
       "4            0         0        1         0       0       0        1   \n",
       "...        ...       ...      ...       ...     ...     ...      ...   \n",
       "1995         0         0        1         0       0       1        1   \n",
       "1996         0         0        0         0       0       0        0   \n",
       "1997         0         0        0         0       0       0        0   \n",
       "1998         0         0        1         0       0       0        0   \n",
       "1999         0         0        0         0       0       0        0   \n",
       "\n",
       "      ItalCook  ItalAtlas  ItalArt  Florence  \n",
       "0            0          0        0         0  \n",
       "1            0          0        0         0  \n",
       "2            0          0        0         0  \n",
       "3            0          0        0         0  \n",
       "4            0          0        0         0  \n",
       "...        ...        ...      ...       ...  \n",
       "1995         1          0        1         1  \n",
       "1996         0          0        0         0  \n",
       "1997         0          0        0         0  \n",
       "1998         0          0        0         0  \n",
       "1999         0          0        0         0  \n",
       "\n",
       "[2000 rows x 11 columns]"
      ]
     },
     "execution_count": 275,
     "metadata": {},
     "output_type": "execute_result"
    }
   ],
   "source": [
    "dataset"
   ]
  },
  {
   "cell_type": "code",
   "execution_count": 276,
   "id": "009b7eb1",
   "metadata": {},
   "outputs": [
    {
     "data": {
      "text/html": [
       "<div>\n",
       "<style scoped>\n",
       "    .dataframe tbody tr th:only-of-type {\n",
       "        vertical-align: middle;\n",
       "    }\n",
       "\n",
       "    .dataframe tbody tr th {\n",
       "        vertical-align: top;\n",
       "    }\n",
       "\n",
       "    .dataframe thead th {\n",
       "        text-align: right;\n",
       "    }\n",
       "</style>\n",
       "<table border=\"1\" class=\"dataframe\">\n",
       "  <thead>\n",
       "    <tr style=\"text-align: right;\">\n",
       "      <th></th>\n",
       "      <th>ChildBks</th>\n",
       "      <th>YouthBks</th>\n",
       "      <th>CookBks</th>\n",
       "      <th>DoItYBks</th>\n",
       "      <th>RefBks</th>\n",
       "      <th>ArtBks</th>\n",
       "      <th>GeogBks</th>\n",
       "      <th>ItalCook</th>\n",
       "      <th>ItalAtlas</th>\n",
       "      <th>ItalArt</th>\n",
       "      <th>Florence</th>\n",
       "    </tr>\n",
       "  </thead>\n",
       "  <tbody>\n",
       "    <tr>\n",
       "      <th>0</th>\n",
       "      <td>0</td>\n",
       "      <td>1</td>\n",
       "      <td>0</td>\n",
       "      <td>1</td>\n",
       "      <td>0</td>\n",
       "      <td>0</td>\n",
       "      <td>1</td>\n",
       "      <td>0</td>\n",
       "      <td>0</td>\n",
       "      <td>0</td>\n",
       "      <td>0</td>\n",
       "    </tr>\n",
       "    <tr>\n",
       "      <th>1</th>\n",
       "      <td>1</td>\n",
       "      <td>0</td>\n",
       "      <td>0</td>\n",
       "      <td>0</td>\n",
       "      <td>0</td>\n",
       "      <td>0</td>\n",
       "      <td>0</td>\n",
       "      <td>0</td>\n",
       "      <td>0</td>\n",
       "      <td>0</td>\n",
       "      <td>0</td>\n",
       "    </tr>\n",
       "    <tr>\n",
       "      <th>2</th>\n",
       "      <td>0</td>\n",
       "      <td>0</td>\n",
       "      <td>0</td>\n",
       "      <td>0</td>\n",
       "      <td>0</td>\n",
       "      <td>0</td>\n",
       "      <td>0</td>\n",
       "      <td>0</td>\n",
       "      <td>0</td>\n",
       "      <td>0</td>\n",
       "      <td>0</td>\n",
       "    </tr>\n",
       "    <tr>\n",
       "      <th>3</th>\n",
       "      <td>1</td>\n",
       "      <td>1</td>\n",
       "      <td>1</td>\n",
       "      <td>0</td>\n",
       "      <td>1</td>\n",
       "      <td>0</td>\n",
       "      <td>1</td>\n",
       "      <td>0</td>\n",
       "      <td>0</td>\n",
       "      <td>0</td>\n",
       "      <td>0</td>\n",
       "    </tr>\n",
       "    <tr>\n",
       "      <th>4</th>\n",
       "      <td>0</td>\n",
       "      <td>0</td>\n",
       "      <td>1</td>\n",
       "      <td>0</td>\n",
       "      <td>0</td>\n",
       "      <td>0</td>\n",
       "      <td>1</td>\n",
       "      <td>0</td>\n",
       "      <td>0</td>\n",
       "      <td>0</td>\n",
       "      <td>0</td>\n",
       "    </tr>\n",
       "  </tbody>\n",
       "</table>\n",
       "</div>"
      ],
      "text/plain": [
       "   ChildBks  YouthBks  CookBks  DoItYBks  RefBks  ArtBks  GeogBks  ItalCook  \\\n",
       "0         0         1        0         1       0       0        1         0   \n",
       "1         1         0        0         0       0       0        0         0   \n",
       "2         0         0        0         0       0       0        0         0   \n",
       "3         1         1        1         0       1       0        1         0   \n",
       "4         0         0        1         0       0       0        1         0   \n",
       "\n",
       "   ItalAtlas  ItalArt  Florence  \n",
       "0          0        0         0  \n",
       "1          0        0         0  \n",
       "2          0        0         0  \n",
       "3          0        0         0  \n",
       "4          0        0         0  "
      ]
     },
     "execution_count": 276,
     "metadata": {},
     "output_type": "execute_result"
    }
   ],
   "source": [
    "dataset.head()"
   ]
  },
  {
   "cell_type": "code",
   "execution_count": 277,
   "id": "7377053e",
   "metadata": {},
   "outputs": [
    {
     "data": {
      "text/plain": [
       "(2000, 11)"
      ]
     },
     "execution_count": 277,
     "metadata": {},
     "output_type": "execute_result"
    }
   ],
   "source": [
    "dataset.shape"
   ]
  },
  {
   "cell_type": "markdown",
   "id": "5de0aa4a",
   "metadata": {},
   "source": [
    "# EDA"
   ]
  },
  {
   "cell_type": "code",
   "execution_count": 278,
   "id": "5193f8d7",
   "metadata": {},
   "outputs": [
    {
     "data": {
      "text/plain": [
       "ChildBks     0\n",
       "YouthBks     0\n",
       "CookBks      0\n",
       "DoItYBks     0\n",
       "RefBks       0\n",
       "ArtBks       0\n",
       "GeogBks      0\n",
       "ItalCook     0\n",
       "ItalAtlas    0\n",
       "ItalArt      0\n",
       "Florence     0\n",
       "dtype: int64"
      ]
     },
     "execution_count": 278,
     "metadata": {},
     "output_type": "execute_result"
    }
   ],
   "source": [
    "dataset.isnull().sum()"
   ]
  },
  {
   "cell_type": "code",
   "execution_count": 279,
   "id": "fe63a1f0",
   "metadata": {},
   "outputs": [
    {
     "name": "stdout",
     "output_type": "stream",
     "text": [
      "<class 'pandas.core.frame.DataFrame'>\n",
      "RangeIndex: 2000 entries, 0 to 1999\n",
      "Data columns (total 11 columns):\n",
      " #   Column     Non-Null Count  Dtype\n",
      "---  ------     --------------  -----\n",
      " 0   ChildBks   2000 non-null   int64\n",
      " 1   YouthBks   2000 non-null   int64\n",
      " 2   CookBks    2000 non-null   int64\n",
      " 3   DoItYBks   2000 non-null   int64\n",
      " 4   RefBks     2000 non-null   int64\n",
      " 5   ArtBks     2000 non-null   int64\n",
      " 6   GeogBks    2000 non-null   int64\n",
      " 7   ItalCook   2000 non-null   int64\n",
      " 8   ItalAtlas  2000 non-null   int64\n",
      " 9   ItalArt    2000 non-null   int64\n",
      " 10  Florence   2000 non-null   int64\n",
      "dtypes: int64(11)\n",
      "memory usage: 172.0 KB\n"
     ]
    }
   ],
   "source": [
    "dataset.info()"
   ]
  },
  {
   "cell_type": "code",
   "execution_count": 280,
   "id": "30743f24",
   "metadata": {},
   "outputs": [
    {
     "data": {
      "text/html": [
       "<div>\n",
       "<style scoped>\n",
       "    .dataframe tbody tr th:only-of-type {\n",
       "        vertical-align: middle;\n",
       "    }\n",
       "\n",
       "    .dataframe tbody tr th {\n",
       "        vertical-align: top;\n",
       "    }\n",
       "\n",
       "    .dataframe thead th {\n",
       "        text-align: right;\n",
       "    }\n",
       "</style>\n",
       "<table border=\"1\" class=\"dataframe\">\n",
       "  <thead>\n",
       "    <tr style=\"text-align: right;\">\n",
       "      <th></th>\n",
       "      <th>ChildBks</th>\n",
       "      <th>YouthBks</th>\n",
       "      <th>CookBks</th>\n",
       "      <th>DoItYBks</th>\n",
       "      <th>RefBks</th>\n",
       "      <th>ArtBks</th>\n",
       "      <th>GeogBks</th>\n",
       "      <th>ItalCook</th>\n",
       "      <th>ItalAtlas</th>\n",
       "      <th>ItalArt</th>\n",
       "      <th>Florence</th>\n",
       "    </tr>\n",
       "  </thead>\n",
       "  <tbody>\n",
       "    <tr>\n",
       "      <th>count</th>\n",
       "      <td>2000.000000</td>\n",
       "      <td>2000.000000</td>\n",
       "      <td>2000.00000</td>\n",
       "      <td>2000.000000</td>\n",
       "      <td>2000.000000</td>\n",
       "      <td>2000.000000</td>\n",
       "      <td>2000.000000</td>\n",
       "      <td>2000.000000</td>\n",
       "      <td>2000.000000</td>\n",
       "      <td>2000.000000</td>\n",
       "      <td>2000.000000</td>\n",
       "    </tr>\n",
       "    <tr>\n",
       "      <th>mean</th>\n",
       "      <td>0.423000</td>\n",
       "      <td>0.247500</td>\n",
       "      <td>0.43100</td>\n",
       "      <td>0.282000</td>\n",
       "      <td>0.214500</td>\n",
       "      <td>0.241000</td>\n",
       "      <td>0.276000</td>\n",
       "      <td>0.113500</td>\n",
       "      <td>0.037000</td>\n",
       "      <td>0.048500</td>\n",
       "      <td>0.108500</td>\n",
       "    </tr>\n",
       "    <tr>\n",
       "      <th>std</th>\n",
       "      <td>0.494159</td>\n",
       "      <td>0.431668</td>\n",
       "      <td>0.49534</td>\n",
       "      <td>0.450086</td>\n",
       "      <td>0.410578</td>\n",
       "      <td>0.427797</td>\n",
       "      <td>0.447129</td>\n",
       "      <td>0.317282</td>\n",
       "      <td>0.188809</td>\n",
       "      <td>0.214874</td>\n",
       "      <td>0.311089</td>\n",
       "    </tr>\n",
       "    <tr>\n",
       "      <th>min</th>\n",
       "      <td>0.000000</td>\n",
       "      <td>0.000000</td>\n",
       "      <td>0.00000</td>\n",
       "      <td>0.000000</td>\n",
       "      <td>0.000000</td>\n",
       "      <td>0.000000</td>\n",
       "      <td>0.000000</td>\n",
       "      <td>0.000000</td>\n",
       "      <td>0.000000</td>\n",
       "      <td>0.000000</td>\n",
       "      <td>0.000000</td>\n",
       "    </tr>\n",
       "    <tr>\n",
       "      <th>25%</th>\n",
       "      <td>0.000000</td>\n",
       "      <td>0.000000</td>\n",
       "      <td>0.00000</td>\n",
       "      <td>0.000000</td>\n",
       "      <td>0.000000</td>\n",
       "      <td>0.000000</td>\n",
       "      <td>0.000000</td>\n",
       "      <td>0.000000</td>\n",
       "      <td>0.000000</td>\n",
       "      <td>0.000000</td>\n",
       "      <td>0.000000</td>\n",
       "    </tr>\n",
       "    <tr>\n",
       "      <th>50%</th>\n",
       "      <td>0.000000</td>\n",
       "      <td>0.000000</td>\n",
       "      <td>0.00000</td>\n",
       "      <td>0.000000</td>\n",
       "      <td>0.000000</td>\n",
       "      <td>0.000000</td>\n",
       "      <td>0.000000</td>\n",
       "      <td>0.000000</td>\n",
       "      <td>0.000000</td>\n",
       "      <td>0.000000</td>\n",
       "      <td>0.000000</td>\n",
       "    </tr>\n",
       "    <tr>\n",
       "      <th>75%</th>\n",
       "      <td>1.000000</td>\n",
       "      <td>0.000000</td>\n",
       "      <td>1.00000</td>\n",
       "      <td>1.000000</td>\n",
       "      <td>0.000000</td>\n",
       "      <td>0.000000</td>\n",
       "      <td>1.000000</td>\n",
       "      <td>0.000000</td>\n",
       "      <td>0.000000</td>\n",
       "      <td>0.000000</td>\n",
       "      <td>0.000000</td>\n",
       "    </tr>\n",
       "    <tr>\n",
       "      <th>max</th>\n",
       "      <td>1.000000</td>\n",
       "      <td>1.000000</td>\n",
       "      <td>1.00000</td>\n",
       "      <td>1.000000</td>\n",
       "      <td>1.000000</td>\n",
       "      <td>1.000000</td>\n",
       "      <td>1.000000</td>\n",
       "      <td>1.000000</td>\n",
       "      <td>1.000000</td>\n",
       "      <td>1.000000</td>\n",
       "      <td>1.000000</td>\n",
       "    </tr>\n",
       "  </tbody>\n",
       "</table>\n",
       "</div>"
      ],
      "text/plain": [
       "          ChildBks     YouthBks     CookBks     DoItYBks       RefBks  \\\n",
       "count  2000.000000  2000.000000  2000.00000  2000.000000  2000.000000   \n",
       "mean      0.423000     0.247500     0.43100     0.282000     0.214500   \n",
       "std       0.494159     0.431668     0.49534     0.450086     0.410578   \n",
       "min       0.000000     0.000000     0.00000     0.000000     0.000000   \n",
       "25%       0.000000     0.000000     0.00000     0.000000     0.000000   \n",
       "50%       0.000000     0.000000     0.00000     0.000000     0.000000   \n",
       "75%       1.000000     0.000000     1.00000     1.000000     0.000000   \n",
       "max       1.000000     1.000000     1.00000     1.000000     1.000000   \n",
       "\n",
       "            ArtBks      GeogBks     ItalCook    ItalAtlas      ItalArt  \\\n",
       "count  2000.000000  2000.000000  2000.000000  2000.000000  2000.000000   \n",
       "mean      0.241000     0.276000     0.113500     0.037000     0.048500   \n",
       "std       0.427797     0.447129     0.317282     0.188809     0.214874   \n",
       "min       0.000000     0.000000     0.000000     0.000000     0.000000   \n",
       "25%       0.000000     0.000000     0.000000     0.000000     0.000000   \n",
       "50%       0.000000     0.000000     0.000000     0.000000     0.000000   \n",
       "75%       0.000000     1.000000     0.000000     0.000000     0.000000   \n",
       "max       1.000000     1.000000     1.000000     1.000000     1.000000   \n",
       "\n",
       "          Florence  \n",
       "count  2000.000000  \n",
       "mean      0.108500  \n",
       "std       0.311089  \n",
       "min       0.000000  \n",
       "25%       0.000000  \n",
       "50%       0.000000  \n",
       "75%       0.000000  \n",
       "max       1.000000  "
      ]
     },
     "execution_count": 280,
     "metadata": {},
     "output_type": "execute_result"
    }
   ],
   "source": [
    "dataset.describe()"
   ]
  },
  {
   "cell_type": "code",
   "execution_count": 281,
   "id": "e584539a",
   "metadata": {},
   "outputs": [
    {
     "data": {
      "text/plain": [
       "ChildBks     2\n",
       "YouthBks     2\n",
       "CookBks      2\n",
       "DoItYBks     2\n",
       "RefBks       2\n",
       "ArtBks       2\n",
       "GeogBks      2\n",
       "ItalCook     2\n",
       "ItalAtlas    2\n",
       "ItalArt      2\n",
       "Florence     2\n",
       "dtype: int64"
      ]
     },
     "execution_count": 281,
     "metadata": {},
     "output_type": "execute_result"
    }
   ],
   "source": [
    "dataset.nunique()"
   ]
  },
  {
   "cell_type": "code",
   "execution_count": 282,
   "id": "8cf52338",
   "metadata": {},
   "outputs": [
    {
     "name": "stdout",
     "output_type": "stream",
     "text": [
      "Any missing data or NaN in the dataset: False\n"
     ]
    }
   ],
   "source": [
    "print(str('Any missing data or NaN in the dataset:'), dataset.isnull().values.any())"
   ]
  },
  {
   "cell_type": "code",
   "execution_count": 283,
   "id": "fa5c7bac",
   "metadata": {},
   "outputs": [
    {
     "name": "stdout",
     "output_type": "stream",
     "text": [
      "Requirement already satisfied: apyori in /home/jyotipriya/anaconda3/lib/python3.9/site-packages (1.1.2)\r\n"
     ]
    }
   ],
   "source": [
    "#install APRIORI algorithm \n",
    "!pip install apyori"
   ]
  },
  {
   "cell_type": "code",
   "execution_count": 284,
   "id": "4a7f0077",
   "metadata": {},
   "outputs": [],
   "source": [
    "list_of_transactions = []"
   ]
  },
  {
   "cell_type": "code",
   "execution_count": 285,
   "id": "c6b3e641",
   "metadata": {},
   "outputs": [
    {
     "data": {
      "text/plain": [
       "0"
      ]
     },
     "execution_count": 285,
     "metadata": {},
     "output_type": "execute_result"
    }
   ],
   "source": [
    "dataset.values[0,5]"
   ]
  },
  {
   "cell_type": "code",
   "execution_count": 286,
   "id": "c159f504",
   "metadata": {},
   "outputs": [],
   "source": [
    "#Append the list\n",
    "for i in range(0, 2000):\n",
    "    list_of_transactions.append([str(dataset.values[i,j]) for j in range(0, 11)])"
   ]
  },
  {
   "cell_type": "code",
   "execution_count": 287,
   "id": "ad6049aa",
   "metadata": {},
   "outputs": [
    {
     "data": {
      "text/plain": [
       "['0', '1', '0', '1', '0', '0', '1', '0', '0', '0', '0']"
      ]
     },
     "execution_count": 287,
     "metadata": {},
     "output_type": "execute_result"
    }
   ],
   "source": [
    "#Let's see the first element from our list of transactions. We should indicate 0 here because index in Pythn starts with 0\n",
    "list_of_transactions[0]"
   ]
  },
  {
   "cell_type": "markdown",
   "id": "d32607e0",
   "metadata": {},
   "source": [
    "# Apriori algorithim"
   ]
  },
  {
   "cell_type": "code",
   "execution_count": 288,
   "id": "adca569a",
   "metadata": {},
   "outputs": [],
   "source": [
    "from apyori import apriori"
   ]
  },
  {
   "cell_type": "code",
   "execution_count": 289,
   "id": "a9b8c133",
   "metadata": {},
   "outputs": [],
   "source": [
    "\n",
    "from mlxtend.frequent_patterns import apriori"
   ]
  },
  {
   "cell_type": "code",
   "execution_count": 290,
   "id": "935d24bf",
   "metadata": {},
   "outputs": [
    {
     "name": "stderr",
     "output_type": "stream",
     "text": [
      "/home/jyotipriya/anaconda3/lib/python3.9/site-packages/mlxtend/frequent_patterns/fpcommon.py:111: DeprecationWarning: DataFrames with non-bool types result in worse computationalperformance and their support might be discontinued in the future.Please use a DataFrame with bool type\n",
      "  warnings.warn(\n"
     ]
    }
   ],
   "source": [
    "frequent_itemsets = apriori(dataset, min_support = 0.1)\n"
   ]
  },
  {
   "cell_type": "code",
   "execution_count": 291,
   "id": "1f992c9a",
   "metadata": {},
   "outputs": [
    {
     "name": "stdout",
     "output_type": "stream",
     "text": [
      "39\n"
     ]
    }
   ],
   "source": [
    "print(len(frequent_itemsets))"
   ]
  },
  {
   "cell_type": "code",
   "execution_count": 292,
   "id": "a4eb7d33",
   "metadata": {},
   "outputs": [
    {
     "name": "stdout",
     "output_type": "stream",
     "text": [
      "\r",
      "Processing 72 combinations | Sampling itemset size 2\r",
      "Processing 153 combinations | Sampling itemset size 3\r",
      "Processing 44 combinations | Sampling itemset size 4\n",
      "   support    itemsets\n",
      "0   0.4230  (ChildBks)\n",
      "1   0.2475  (YouthBks)\n",
      "2   0.4310   (CookBks)\n",
      "3   0.2820  (DoItYBks)\n",
      "4   0.2145    (RefBks)\n"
     ]
    },
    {
     "name": "stderr",
     "output_type": "stream",
     "text": [
      "/home/jyotipriya/anaconda3/lib/python3.9/site-packages/mlxtend/frequent_patterns/fpcommon.py:111: DeprecationWarning: DataFrames with non-bool types result in worse computationalperformance and their support might be discontinued in the future.Please use a DataFrame with bool type\n",
      "  warnings.warn(\n"
     ]
    }
   ],
   "source": [
    "frequent_itemsets = apriori(dataset, min_support=0.1, use_colnames= True, verbose=1)\n",
    "print(frequent_itemsets.head())"
   ]
  },
  {
   "cell_type": "code",
   "execution_count": 293,
   "id": "caf1da1a",
   "metadata": {},
   "outputs": [
    {
     "data": {
      "text/html": [
       "<div>\n",
       "<style scoped>\n",
       "    .dataframe tbody tr th:only-of-type {\n",
       "        vertical-align: middle;\n",
       "    }\n",
       "\n",
       "    .dataframe tbody tr th {\n",
       "        vertical-align: top;\n",
       "    }\n",
       "\n",
       "    .dataframe thead th {\n",
       "        text-align: right;\n",
       "    }\n",
       "</style>\n",
       "<table border=\"1\" class=\"dataframe\">\n",
       "  <thead>\n",
       "    <tr style=\"text-align: right;\">\n",
       "      <th></th>\n",
       "      <th>support</th>\n",
       "      <th>itemsets</th>\n",
       "    </tr>\n",
       "  </thead>\n",
       "  <tbody>\n",
       "    <tr>\n",
       "      <th>2</th>\n",
       "      <td>0.431</td>\n",
       "      <td>(CookBks)</td>\n",
       "    </tr>\n",
       "    <tr>\n",
       "      <th>0</th>\n",
       "      <td>0.423</td>\n",
       "      <td>(ChildBks)</td>\n",
       "    </tr>\n",
       "    <tr>\n",
       "      <th>3</th>\n",
       "      <td>0.282</td>\n",
       "      <td>(DoItYBks)</td>\n",
       "    </tr>\n",
       "    <tr>\n",
       "      <th>6</th>\n",
       "      <td>0.276</td>\n",
       "      <td>(GeogBks)</td>\n",
       "    </tr>\n",
       "    <tr>\n",
       "      <th>10</th>\n",
       "      <td>0.256</td>\n",
       "      <td>(CookBks, ChildBks)</td>\n",
       "    </tr>\n",
       "  </tbody>\n",
       "</table>\n",
       "</div>"
      ],
      "text/plain": [
       "    support             itemsets\n",
       "2     0.431            (CookBks)\n",
       "0     0.423           (ChildBks)\n",
       "3     0.282           (DoItYBks)\n",
       "6     0.276            (GeogBks)\n",
       "10    0.256  (CookBks, ChildBks)"
      ]
     },
     "execution_count": 293,
     "metadata": {},
     "output_type": "execute_result"
    }
   ],
   "source": [
    "frequent_itemsets.sort_values(\"support\", ascending = False).head()"
   ]
  },
  {
   "cell_type": "code",
   "execution_count": 294,
   "id": "ab9408d8",
   "metadata": {},
   "outputs": [
    {
     "name": "stdout",
     "output_type": "stream",
     "text": [
      "  antecedents consequents  antecedent support  consequent support  support  \\\n",
      "0  (YouthBks)  (ChildBks)              0.2475               0.423    0.165   \n",
      "1   (CookBks)  (ChildBks)              0.4310               0.423    0.256   \n",
      "2  (ChildBks)   (CookBks)              0.4230               0.431    0.256   \n",
      "3  (ChildBks)  (DoItYBks)              0.4230               0.282    0.184   \n",
      "4  (DoItYBks)  (ChildBks)              0.2820               0.423    0.184   \n",
      "\n",
      "   confidence      lift  leverage  conviction  \n",
      "0    0.666667  1.576044  0.060308    1.731000  \n",
      "1    0.593968  1.404179  0.073687    1.421069  \n",
      "2    0.605201  1.404179  0.073687    1.441240  \n",
      "3    0.434988  1.542511  0.064714    1.270770  \n",
      "4    0.652482  1.542511  0.064714    1.660347  \n"
     ]
    }
   ],
   "source": [
    "rules= association_rules(frequent_itemsets, metric= \"confidence\", min_threshold=0.4)\n",
    "print(rules.head())"
   ]
  },
  {
   "cell_type": "code",
   "execution_count": 295,
   "id": "2f3634ef",
   "metadata": {},
   "outputs": [
    {
     "data": {
      "text/plain": [
       "(70, 9)"
      ]
     },
     "execution_count": 295,
     "metadata": {},
     "output_type": "execute_result"
    }
   ],
   "source": [
    "rules[(rules.support > 0.015) & (rules.confidence > 0.4)].sort_values(\"confidence\", ascending = False).shape\n"
   ]
  },
  {
   "cell_type": "code",
   "execution_count": 296,
   "id": "9e79f86f",
   "metadata": {},
   "outputs": [
    {
     "data": {
      "text/plain": [
       "(70, 9)"
      ]
     },
     "execution_count": 296,
     "metadata": {},
     "output_type": "execute_result"
    }
   ],
   "source": [
    "rules.shape"
   ]
  },
  {
   "cell_type": "code",
   "execution_count": 297,
   "id": "1014f1cb",
   "metadata": {},
   "outputs": [
    {
     "data": {
      "text/html": [
       "<div>\n",
       "<style scoped>\n",
       "    .dataframe tbody tr th:only-of-type {\n",
       "        vertical-align: middle;\n",
       "    }\n",
       "\n",
       "    .dataframe tbody tr th {\n",
       "        vertical-align: top;\n",
       "    }\n",
       "\n",
       "    .dataframe thead th {\n",
       "        text-align: right;\n",
       "    }\n",
       "</style>\n",
       "<table border=\"1\" class=\"dataframe\">\n",
       "  <thead>\n",
       "    <tr style=\"text-align: right;\">\n",
       "      <th></th>\n",
       "      <th>antecedents</th>\n",
       "      <th>consequents</th>\n",
       "      <th>antecedent support</th>\n",
       "      <th>consequent support</th>\n",
       "      <th>support</th>\n",
       "      <th>confidence</th>\n",
       "      <th>lift</th>\n",
       "      <th>leverage</th>\n",
       "      <th>conviction</th>\n",
       "      <th>lhs items</th>\n",
       "    </tr>\n",
       "  </thead>\n",
       "  <tbody>\n",
       "    <tr>\n",
       "      <th>57</th>\n",
       "      <td>(ChildBks, ArtBks)</td>\n",
       "      <td>(GeogBks)</td>\n",
       "      <td>0.1625</td>\n",
       "      <td>0.2760</td>\n",
       "      <td>0.1020</td>\n",
       "      <td>0.627692</td>\n",
       "      <td>2.274247</td>\n",
       "      <td>0.057150</td>\n",
       "      <td>1.944628</td>\n",
       "      <td>2</td>\n",
       "    </tr>\n",
       "    <tr>\n",
       "      <th>60</th>\n",
       "      <td>(CookBks, DoItYBks)</td>\n",
       "      <td>(ArtBks)</td>\n",
       "      <td>0.1875</td>\n",
       "      <td>0.2410</td>\n",
       "      <td>0.1015</td>\n",
       "      <td>0.541333</td>\n",
       "      <td>2.246196</td>\n",
       "      <td>0.056313</td>\n",
       "      <td>1.654797</td>\n",
       "      <td>2</td>\n",
       "    </tr>\n",
       "    <tr>\n",
       "      <th>68</th>\n",
       "      <td>(CookBks, ArtBks)</td>\n",
       "      <td>(GeogBks)</td>\n",
       "      <td>0.1670</td>\n",
       "      <td>0.2760</td>\n",
       "      <td>0.1035</td>\n",
       "      <td>0.619760</td>\n",
       "      <td>2.245509</td>\n",
       "      <td>0.057408</td>\n",
       "      <td>1.904063</td>\n",
       "      <td>2</td>\n",
       "    </tr>\n",
       "    <tr>\n",
       "      <th>66</th>\n",
       "      <td>(GeogBks, CookBks)</td>\n",
       "      <td>(ArtBks)</td>\n",
       "      <td>0.1925</td>\n",
       "      <td>0.2410</td>\n",
       "      <td>0.1035</td>\n",
       "      <td>0.537662</td>\n",
       "      <td>2.230964</td>\n",
       "      <td>0.057107</td>\n",
       "      <td>1.641657</td>\n",
       "      <td>2</td>\n",
       "    </tr>\n",
       "    <tr>\n",
       "      <th>40</th>\n",
       "      <td>(CookBks, ChildBks)</td>\n",
       "      <td>(RefBks)</td>\n",
       "      <td>0.2560</td>\n",
       "      <td>0.2145</td>\n",
       "      <td>0.1225</td>\n",
       "      <td>0.478516</td>\n",
       "      <td>2.230842</td>\n",
       "      <td>0.067588</td>\n",
       "      <td>1.506277</td>\n",
       "      <td>2</td>\n",
       "    </tr>\n",
       "  </tbody>\n",
       "</table>\n",
       "</div>"
      ],
      "text/plain": [
       "            antecedents consequents  antecedent support  consequent support  \\\n",
       "57   (ChildBks, ArtBks)   (GeogBks)              0.1625              0.2760   \n",
       "60  (CookBks, DoItYBks)    (ArtBks)              0.1875              0.2410   \n",
       "68    (CookBks, ArtBks)   (GeogBks)              0.1670              0.2760   \n",
       "66   (GeogBks, CookBks)    (ArtBks)              0.1925              0.2410   \n",
       "40  (CookBks, ChildBks)    (RefBks)              0.2560              0.2145   \n",
       "\n",
       "    support  confidence      lift  leverage  conviction  lhs items  \n",
       "57   0.1020    0.627692  2.274247  0.057150    1.944628          2  \n",
       "60   0.1015    0.541333  2.246196  0.056313    1.654797          2  \n",
       "68   0.1035    0.619760  2.245509  0.057408    1.904063          2  \n",
       "66   0.1035    0.537662  2.230964  0.057107    1.641657          2  \n",
       "40   0.1225    0.478516  2.230842  0.067588    1.506277          2  "
      ]
     },
     "execution_count": 297,
     "metadata": {},
     "output_type": "execute_result"
    }
   ],
   "source": [
    "rules['lhs items'] = rules['antecedents'].apply(lambda x:len(x) )\n",
    "rules[rules['lhs items']>1].sort_values('lift', ascending=False).head()"
   ]
  },
  {
   "cell_type": "code",
   "execution_count": 298,
   "id": "641df6e0",
   "metadata": {},
   "outputs": [],
   "source": [
    "rules['antecedents_'] = rules['antecedents'].apply(lambda a: ','.join(list(a)))\n",
    "rules['consequents_'] = rules['consequents'].apply(lambda a: ','.join(list(a)))\n"
   ]
  },
  {
   "cell_type": "code",
   "execution_count": 299,
   "id": "eb32275f",
   "metadata": {},
   "outputs": [],
   "source": [
    "# Transform the DataFrame of rules into a matrix using the confidence metric\n",
    "pivot = rules[rules['lhs items']>1].pivot(index = 'antecedents_', \n",
    "                    columns = 'consequents_', values= 'confidence')"
   ]
  },
  {
   "cell_type": "code",
   "execution_count": 300,
   "id": "2046f925",
   "metadata": {},
   "outputs": [],
   "source": [
    "import seaborn as sns"
   ]
  },
  {
   "cell_type": "code",
   "execution_count": 301,
   "id": "dccb16fd",
   "metadata": {},
   "outputs": [
    {
     "data": {
      "text/plain": [
       "(array([0.5, 1.5, 2.5, 3.5, 4.5, 5.5, 6.5]),\n",
       " [Text(0.5, 0, 'ArtBks'),\n",
       "  Text(1.5, 0, 'ChildBks'),\n",
       "  Text(2.5, 0, 'CookBks'),\n",
       "  Text(3.5, 0, 'DoItYBks'),\n",
       "  Text(4.5, 0, 'GeogBks'),\n",
       "  Text(5.5, 0, 'RefBks'),\n",
       "  Text(6.5, 0, 'YouthBks')])"
      ]
     },
     "execution_count": 301,
     "metadata": {},
     "output_type": "execute_result"
    },
    {
     "data": {
      "image/png": "[encoded data removed]",
      "text/plain": [
       "<Figure size 432x288 with 2 Axes>"
      ]
     },
     "metadata": {
      "needs_background": "light"
     },
     "output_type": "display_data"
    }
   ],
   "source": [
    "sns.heatmap(pivot, annot = True)\n",
    "plt.title('Heat Map - For Confidence Metric')\n",
    "plt.yticks(rotation=0)\n",
    "plt.xticks(rotation=90)"
   ]
  },
  {
   "cell_type": "code",
   "execution_count": 302,
   "id": "841adf42",
   "metadata": {},
   "outputs": [
    {
     "data": {
      "image/png": "[encoded data removed]",
      "text/plain": [
       "<Figure size 432x288 with 1 Axes>"
      ]
     },
     "metadata": {
      "needs_background": "light"
     },
     "output_type": "display_data"
    }
   ],
   "source": [
    "# visualization of obtained rule\n",
    "plt.scatter(rules['support'],rules['confidence'])\n",
    "plt.xlabel('support')\n",
    "plt.ylabel('confidence') \n",
    "plt.show()"
   ]
  },
  {
   "cell_type": "code",
   "execution_count": 303,
   "id": "caa87a01",
   "metadata": {},
   "outputs": [
    {
     "name": "stdout",
     "output_type": "stream",
     "text": [
      "(100, 9)\n"
     ]
    }
   ],
   "source": [
    "rules2 = association_rules(frequent_itemsets, metric=\"lift\", min_threshold=0.6)\n",
    "print(rules2.shape)"
   ]
  },
  {
   "cell_type": "code",
   "execution_count": null,
   "id": "89ae044b",
   "metadata": {},
   "outputs": [],
   "source": []
  },
  {
   "cell_type": "code",
   "execution_count": 304,
   "id": "84f914bd",
   "metadata": {},
   "outputs": [
    {
     "data": {
      "text/html": [
       "<div>\n",
       "<style scoped>\n",
       "    .dataframe tbody tr th:only-of-type {\n",
       "        vertical-align: middle;\n",
       "    }\n",
       "\n",
       "    .dataframe tbody tr th {\n",
       "        vertical-align: top;\n",
       "    }\n",
       "\n",
       "    .dataframe thead th {\n",
       "        text-align: right;\n",
       "    }\n",
       "</style>\n",
       "<table border=\"1\" class=\"dataframe\">\n",
       "  <thead>\n",
       "    <tr style=\"text-align: right;\">\n",
       "      <th></th>\n",
       "      <th>antecedents</th>\n",
       "      <th>consequents</th>\n",
       "      <th>antecedent support</th>\n",
       "      <th>consequent support</th>\n",
       "      <th>support</th>\n",
       "      <th>confidence</th>\n",
       "      <th>lift</th>\n",
       "      <th>leverage</th>\n",
       "      <th>conviction</th>\n",
       "      <th>lhs items</th>\n",
       "    </tr>\n",
       "  </thead>\n",
       "  <tbody>\n",
       "    <tr>\n",
       "      <th>78</th>\n",
       "      <td>(ChildBks, ArtBks)</td>\n",
       "      <td>(GeogBks)</td>\n",
       "      <td>0.1625</td>\n",
       "      <td>0.2760</td>\n",
       "      <td>0.1020</td>\n",
       "      <td>0.627692</td>\n",
       "      <td>2.274247</td>\n",
       "      <td>0.057150</td>\n",
       "      <td>1.944628</td>\n",
       "      <td>2</td>\n",
       "    </tr>\n",
       "    <tr>\n",
       "      <th>83</th>\n",
       "      <td>(CookBks, DoItYBks)</td>\n",
       "      <td>(ArtBks)</td>\n",
       "      <td>0.1875</td>\n",
       "      <td>0.2410</td>\n",
       "      <td>0.1015</td>\n",
       "      <td>0.541333</td>\n",
       "      <td>2.246196</td>\n",
       "      <td>0.056313</td>\n",
       "      <td>1.654797</td>\n",
       "      <td>2</td>\n",
       "    </tr>\n",
       "    <tr>\n",
       "      <th>96</th>\n",
       "      <td>(CookBks, ArtBks)</td>\n",
       "      <td>(GeogBks)</td>\n",
       "      <td>0.1670</td>\n",
       "      <td>0.2760</td>\n",
       "      <td>0.1035</td>\n",
       "      <td>0.619760</td>\n",
       "      <td>2.245509</td>\n",
       "      <td>0.057408</td>\n",
       "      <td>1.904063</td>\n",
       "      <td>2</td>\n",
       "    </tr>\n",
       "    <tr>\n",
       "      <th>94</th>\n",
       "      <td>(GeogBks, CookBks)</td>\n",
       "      <td>(ArtBks)</td>\n",
       "      <td>0.1925</td>\n",
       "      <td>0.2410</td>\n",
       "      <td>0.1035</td>\n",
       "      <td>0.537662</td>\n",
       "      <td>2.230964</td>\n",
       "      <td>0.057107</td>\n",
       "      <td>1.641657</td>\n",
       "      <td>2</td>\n",
       "    </tr>\n",
       "    <tr>\n",
       "      <th>52</th>\n",
       "      <td>(CookBks, ChildBks)</td>\n",
       "      <td>(RefBks)</td>\n",
       "      <td>0.2560</td>\n",
       "      <td>0.2145</td>\n",
       "      <td>0.1225</td>\n",
       "      <td>0.478516</td>\n",
       "      <td>2.230842</td>\n",
       "      <td>0.067588</td>\n",
       "      <td>1.506277</td>\n",
       "      <td>2</td>\n",
       "    </tr>\n",
       "  </tbody>\n",
       "</table>\n",
       "</div>"
      ],
      "text/plain": [
       "            antecedents consequents  antecedent support  consequent support  \\\n",
       "78   (ChildBks, ArtBks)   (GeogBks)              0.1625              0.2760   \n",
       "83  (CookBks, DoItYBks)    (ArtBks)              0.1875              0.2410   \n",
       "96    (CookBks, ArtBks)   (GeogBks)              0.1670              0.2760   \n",
       "94   (GeogBks, CookBks)    (ArtBks)              0.1925              0.2410   \n",
       "52  (CookBks, ChildBks)    (RefBks)              0.2560              0.2145   \n",
       "\n",
       "    support  confidence      lift  leverage  conviction  lhs items  \n",
       "78   0.1020    0.627692  2.274247  0.057150    1.944628          2  \n",
       "83   0.1015    0.541333  2.246196  0.056313    1.654797          2  \n",
       "96   0.1035    0.619760  2.245509  0.057408    1.904063          2  \n",
       "94   0.1035    0.537662  2.230964  0.057107    1.641657          2  \n",
       "52   0.1225    0.478516  2.230842  0.067588    1.506277          2  "
      ]
     },
     "execution_count": 304,
     "metadata": {},
     "output_type": "execute_result"
    }
   ],
   "source": [
    "rules2['lhs items'] = rules2['antecedents'].apply(lambda x:len(x) )\n",
    "rules2[rules2['lhs items']>1].sort_values('lift', ascending=False).head()"
   ]
  },
  {
   "cell_type": "code",
   "execution_count": 305,
   "id": "060702a0",
   "metadata": {},
   "outputs": [],
   "source": [
    "# Replace frozen sets with strings\n",
    "rules2['antecedents_'] = rules2['antecedents'].apply(lambda a: ','.join(list(a)))\n",
    "rules2['consequents_'] = rules2['consequents'].apply(lambda a: ','.join(list(a)))"
   ]
  },
  {
   "cell_type": "code",
   "execution_count": 306,
   "id": "42da10e6",
   "metadata": {},
   "outputs": [],
   "source": [
    "# Transform the DataFrame of rules into a matrix using the lift metric\n",
    "pivot = rules2[rules2['lhs items']>1].pivot(index = 'antecedents_', \n",
    "                    columns = 'consequents_', values= 'lift')"
   ]
  },
  {
   "cell_type": "code",
   "execution_count": 307,
   "id": "c007870e",
   "metadata": {},
   "outputs": [
    {
     "data": {
      "text/plain": [
       "(array([0.5, 1.5, 2.5, 3.5, 4.5, 5.5, 6.5]),\n",
       " [Text(0.5, 0, 'ArtBks'),\n",
       "  Text(1.5, 0, 'ChildBks'),\n",
       "  Text(2.5, 0, 'CookBks'),\n",
       "  Text(3.5, 0, 'DoItYBks'),\n",
       "  Text(4.5, 0, 'GeogBks'),\n",
       "  Text(5.5, 0, 'RefBks'),\n",
       "  Text(6.5, 0, 'YouthBks')])"
      ]
     },
     "execution_count": 307,
     "metadata": {},
     "output_type": "execute_result"
    },
    {
     "data": {
      "image/png": "[encoded data removed]",
      "text/plain": [
       "<Figure size 432x288 with 2 Axes>"
      ]
     },
     "metadata": {
      "needs_background": "light"
     },
     "output_type": "display_data"
    }
   ],
   "source": [
    "sns.heatmap(pivot, annot = True)\n",
    "plt.title('Heat Map - For Lift Metric')\n",
    "plt.yticks(rotation=0)\n",
    "plt.xticks(rotation=90)"
   ]
  },
  {
   "cell_type": "markdown",
   "id": "4606acb8",
   "metadata": {},
   "source": [
    "# FpGrowth Algorithim"
   ]
  },
  {
   "cell_type": "code",
   "execution_count": 308,
   "id": "9d278810",
   "metadata": {},
   "outputs": [
    {
     "name": "stdout",
     "output_type": "stream",
     "text": [
      "\r",
      "9 itemset(s) from tree conditioned on items ()\n",
      "\r",
      "2 itemset(s) from tree conditioned on items (DoItYBks)\n",
      "\r",
      "1 itemset(s) from tree conditioned on items (DoItYBks, ChildBks)\n",
      "\r",
      "0 itemset(s) from tree conditioned on items (DoItYBks, CookBks)\n",
      "\r",
      "3 itemset(s) from tree conditioned on items (GeogBks)\n",
      "\r",
      "2 itemset(s) from tree conditioned on items (GeogBks, DoItYBks)\n",
      "\r",
      "0 itemset(s) from tree conditioned on items (GeogBks, DoItYBks, CookBks)\n",
      "\r",
      "0 itemset(s) from tree conditioned on items (GeogBks, DoItYBks, ChildBks)\n",
      "\r",
      "0 itemset(s) from tree conditioned on items (GeogBks, ChildBks)\n",
      "\r",
      "1 itemset(s) from tree conditioned on items (GeogBks, CookBks)\n",
      "\r",
      "4 itemset(s) from tree conditioned on items (YouthBks)\n",
      "\r",
      "0 itemset(s) from tree conditioned on items (YouthBks, GeogBks)\n",
      "\r",
      "0 itemset(s) from tree conditioned on items (YouthBks, DoItYBks)\n",
      "\r",
      "0 itemset(s) from tree conditioned on items (YouthBks, ChildBks)\n",
      "\r",
      "1 itemset(s) from tree conditioned on items (YouthBks, CookBks)\n",
      "\r",
      "1 itemset(s) from tree conditioned on items (ChildBks)\n",
      "\r",
      "0 itemset(s) from tree conditioned on items (CookBks)\n",
      "\r",
      "4 itemset(s) from tree conditioned on items (RefBks)\n",
      "\r",
      "0 itemset(s) from tree conditioned on items (RefBks, CookBks)\n",
      "\r",
      "1 itemset(s) from tree conditioned on items (RefBks, ChildBks)\n",
      "\r",
      "0 itemset(s) from tree conditioned on items (RefBks, GeogBks)\n",
      "\r",
      "0 itemset(s) from tree conditioned on items (RefBks, DoItYBks)\n",
      "\r",
      "5 itemset(s) from tree conditioned on items (ArtBks)\n",
      "\r",
      "1 itemset(s) from tree conditioned on items (ArtBks, ChildBks)\n",
      "\r",
      "1 itemset(s) from tree conditioned on items (ArtBks, DoItYBks)\n",
      "\r",
      "0 itemset(s) from tree conditioned on items (ArtBks, YouthBks)\n",
      "\r",
      "0 itemset(s) from tree conditioned on items (ArtBks, CookBks)\n",
      "\r",
      "2 itemset(s) from tree conditioned on items (ArtBks, GeogBks)\n",
      "\r",
      "0 itemset(s) from tree conditioned on items (ArtBks, GeogBks, CookBks)\n",
      "\r",
      "0 itemset(s) from tree conditioned on items (ArtBks, GeogBks, ChildBks)\n",
      "\r",
      "0 itemset(s) from tree conditioned on items (Florence)\n",
      "\r",
      "1 itemset(s) from tree conditioned on items (ItalCook)\n",
      "(39, 2)\n"
     ]
    },
    {
     "name": "stderr",
     "output_type": "stream",
     "text": [
      "/home/jyotipriya/anaconda3/lib/python3.9/site-packages/mlxtend/frequent_patterns/fpcommon.py:111: DeprecationWarning: DataFrames with non-bool types result in worse computationalperformance and their support might be discontinued in the future.Please use a DataFrame with bool type\n",
      "  warnings.warn(\n"
     ]
    }
   ],
   "source": [
    "frequent_itemsets_fp=fpgrowth(dataset, min_support=0.1, use_colnames=True,verbose=1)\n",
    "print(frequent_itemsets_fp.shape)"
   ]
  },
  {
   "cell_type": "code",
   "execution_count": 309,
   "id": "18801e69",
   "metadata": {},
   "outputs": [
    {
     "name": "stdout",
     "output_type": "stream",
     "text": [
      "(49, 9)\n"
     ]
    }
   ],
   "source": [
    "rules_fp = association_rules(frequent_itemsets_fp, metric=\"confidence\", min_threshold=0.5)\n",
    "print(rules_fp.shape)"
   ]
  },
  {
   "cell_type": "code",
   "execution_count": 310,
   "id": "d6a175d6",
   "metadata": {},
   "outputs": [
    {
     "data": {
      "text/html": [
       "<div>\n",
       "<style scoped>\n",
       "    .dataframe tbody tr th:only-of-type {\n",
       "        vertical-align: middle;\n",
       "    }\n",
       "\n",
       "    .dataframe tbody tr th {\n",
       "        vertical-align: top;\n",
       "    }\n",
       "\n",
       "    .dataframe thead th {\n",
       "        text-align: right;\n",
       "    }\n",
       "</style>\n",
       "<table border=\"1\" class=\"dataframe\">\n",
       "  <thead>\n",
       "    <tr style=\"text-align: right;\">\n",
       "      <th></th>\n",
       "      <th>antecedents</th>\n",
       "      <th>consequents</th>\n",
       "      <th>antecedent support</th>\n",
       "      <th>consequent support</th>\n",
       "      <th>support</th>\n",
       "      <th>confidence</th>\n",
       "      <th>lift</th>\n",
       "      <th>leverage</th>\n",
       "      <th>conviction</th>\n",
       "    </tr>\n",
       "  </thead>\n",
       "  <tbody>\n",
       "    <tr>\n",
       "      <th>26</th>\n",
       "      <td>(RefBks)</td>\n",
       "      <td>(CookBks)</td>\n",
       "      <td>0.2145</td>\n",
       "      <td>0.431</td>\n",
       "      <td>0.1525</td>\n",
       "      <td>0.710956</td>\n",
       "      <td>1.649549</td>\n",
       "      <td>0.060050</td>\n",
       "      <td>1.968556</td>\n",
       "    </tr>\n",
       "    <tr>\n",
       "      <th>6</th>\n",
       "      <td>(GeogBks)</td>\n",
       "      <td>(ChildBks)</td>\n",
       "      <td>0.2760</td>\n",
       "      <td>0.423</td>\n",
       "      <td>0.1950</td>\n",
       "      <td>0.706522</td>\n",
       "      <td>1.670264</td>\n",
       "      <td>0.078252</td>\n",
       "      <td>1.966074</td>\n",
       "    </tr>\n",
       "    <tr>\n",
       "      <th>27</th>\n",
       "      <td>(RefBks)</td>\n",
       "      <td>(ChildBks)</td>\n",
       "      <td>0.2145</td>\n",
       "      <td>0.423</td>\n",
       "      <td>0.1515</td>\n",
       "      <td>0.706294</td>\n",
       "      <td>1.669725</td>\n",
       "      <td>0.060767</td>\n",
       "      <td>1.964548</td>\n",
       "    </tr>\n",
       "    <tr>\n",
       "      <th>7</th>\n",
       "      <td>(GeogBks)</td>\n",
       "      <td>(CookBks)</td>\n",
       "      <td>0.2760</td>\n",
       "      <td>0.431</td>\n",
       "      <td>0.1925</td>\n",
       "      <td>0.697464</td>\n",
       "      <td>1.618245</td>\n",
       "      <td>0.073544</td>\n",
       "      <td>1.880766</td>\n",
       "    </tr>\n",
       "    <tr>\n",
       "      <th>34</th>\n",
       "      <td>(ArtBks)</td>\n",
       "      <td>(CookBks)</td>\n",
       "      <td>0.2410</td>\n",
       "      <td>0.431</td>\n",
       "      <td>0.1670</td>\n",
       "      <td>0.692946</td>\n",
       "      <td>1.607763</td>\n",
       "      <td>0.063129</td>\n",
       "      <td>1.853095</td>\n",
       "    </tr>\n",
       "  </tbody>\n",
       "</table>\n",
       "</div>"
      ],
      "text/plain": [
       "   antecedents consequents  antecedent support  consequent support  support  \\\n",
       "26    (RefBks)   (CookBks)              0.2145               0.431   0.1525   \n",
       "6    (GeogBks)  (ChildBks)              0.2760               0.423   0.1950   \n",
       "27    (RefBks)  (ChildBks)              0.2145               0.423   0.1515   \n",
       "7    (GeogBks)   (CookBks)              0.2760               0.431   0.1925   \n",
       "34    (ArtBks)   (CookBks)              0.2410               0.431   0.1670   \n",
       "\n",
       "    confidence      lift  leverage  conviction  \n",
       "26    0.710956  1.649549  0.060050    1.968556  \n",
       "6     0.706522  1.670264  0.078252    1.966074  \n",
       "27    0.706294  1.669725  0.060767    1.964548  \n",
       "7     0.697464  1.618245  0.073544    1.880766  \n",
       "34    0.692946  1.607763  0.063129    1.853095  "
      ]
     },
     "execution_count": 310,
     "metadata": {},
     "output_type": "execute_result"
    }
   ],
   "source": [
    "rules_fp[(rules_fp.support > 0.15) & (rules_fp.confidence > 0.4)].sort_values(\"confidence\", ascending = False).head()\n"
   ]
  },
  {
   "cell_type": "code",
   "execution_count": 311,
   "id": "7a78f7a4",
   "metadata": {},
   "outputs": [
    {
     "data": {
      "text/html": [
       "<div>\n",
       "<style scoped>\n",
       "    .dataframe tbody tr th:only-of-type {\n",
       "        vertical-align: middle;\n",
       "    }\n",
       "\n",
       "    .dataframe tbody tr th {\n",
       "        vertical-align: top;\n",
       "    }\n",
       "\n",
       "    .dataframe thead th {\n",
       "        text-align: right;\n",
       "    }\n",
       "</style>\n",
       "<table border=\"1\" class=\"dataframe\">\n",
       "  <thead>\n",
       "    <tr style=\"text-align: right;\">\n",
       "      <th></th>\n",
       "      <th>antecedents</th>\n",
       "      <th>consequents</th>\n",
       "      <th>antecedent support</th>\n",
       "      <th>consequent support</th>\n",
       "      <th>support</th>\n",
       "      <th>confidence</th>\n",
       "      <th>lift</th>\n",
       "      <th>leverage</th>\n",
       "      <th>conviction</th>\n",
       "      <th>lhs items</th>\n",
       "    </tr>\n",
       "  </thead>\n",
       "  <tbody>\n",
       "    <tr>\n",
       "      <th>47</th>\n",
       "      <td>(ChildBks, ArtBks)</td>\n",
       "      <td>(GeogBks)</td>\n",
       "      <td>0.1625</td>\n",
       "      <td>0.276</td>\n",
       "      <td>0.1020</td>\n",
       "      <td>0.627692</td>\n",
       "      <td>2.274247</td>\n",
       "      <td>0.057150</td>\n",
       "      <td>1.944628</td>\n",
       "      <td>2</td>\n",
       "    </tr>\n",
       "    <tr>\n",
       "      <th>40</th>\n",
       "      <td>(CookBks, DoItYBks)</td>\n",
       "      <td>(ArtBks)</td>\n",
       "      <td>0.1875</td>\n",
       "      <td>0.241</td>\n",
       "      <td>0.1015</td>\n",
       "      <td>0.541333</td>\n",
       "      <td>2.246196</td>\n",
       "      <td>0.056313</td>\n",
       "      <td>1.654797</td>\n",
       "      <td>2</td>\n",
       "    </tr>\n",
       "    <tr>\n",
       "      <th>44</th>\n",
       "      <td>(CookBks, ArtBks)</td>\n",
       "      <td>(GeogBks)</td>\n",
       "      <td>0.1670</td>\n",
       "      <td>0.276</td>\n",
       "      <td>0.1035</td>\n",
       "      <td>0.619760</td>\n",
       "      <td>2.245509</td>\n",
       "      <td>0.057408</td>\n",
       "      <td>1.904063</td>\n",
       "      <td>2</td>\n",
       "    </tr>\n",
       "    <tr>\n",
       "      <th>42</th>\n",
       "      <td>(GeogBks, CookBks)</td>\n",
       "      <td>(ArtBks)</td>\n",
       "      <td>0.1925</td>\n",
       "      <td>0.241</td>\n",
       "      <td>0.1035</td>\n",
       "      <td>0.537662</td>\n",
       "      <td>2.230964</td>\n",
       "      <td>0.057107</td>\n",
       "      <td>1.641657</td>\n",
       "      <td>2</td>\n",
       "    </tr>\n",
       "    <tr>\n",
       "      <th>45</th>\n",
       "      <td>(GeogBks, ChildBks)</td>\n",
       "      <td>(ArtBks)</td>\n",
       "      <td>0.1950</td>\n",
       "      <td>0.241</td>\n",
       "      <td>0.1020</td>\n",
       "      <td>0.523077</td>\n",
       "      <td>2.170444</td>\n",
       "      <td>0.055005</td>\n",
       "      <td>1.591452</td>\n",
       "      <td>2</td>\n",
       "    </tr>\n",
       "  </tbody>\n",
       "</table>\n",
       "</div>"
      ],
      "text/plain": [
       "            antecedents consequents  antecedent support  consequent support  \\\n",
       "47   (ChildBks, ArtBks)   (GeogBks)              0.1625               0.276   \n",
       "40  (CookBks, DoItYBks)    (ArtBks)              0.1875               0.241   \n",
       "44    (CookBks, ArtBks)   (GeogBks)              0.1670               0.276   \n",
       "42   (GeogBks, CookBks)    (ArtBks)              0.1925               0.241   \n",
       "45  (GeogBks, ChildBks)    (ArtBks)              0.1950               0.241   \n",
       "\n",
       "    support  confidence      lift  leverage  conviction  lhs items  \n",
       "47   0.1020    0.627692  2.274247  0.057150    1.944628          2  \n",
       "40   0.1015    0.541333  2.246196  0.056313    1.654797          2  \n",
       "44   0.1035    0.619760  2.245509  0.057408    1.904063          2  \n",
       "42   0.1035    0.537662  2.230964  0.057107    1.641657          2  \n",
       "45   0.1020    0.523077  2.170444  0.055005    1.591452          2  "
      ]
     },
     "execution_count": 311,
     "metadata": {},
     "output_type": "execute_result"
    }
   ],
   "source": [
    "rules_fp['lhs items'] = rules_fp['antecedents'].apply(lambda x:len(x) )\n",
    "rules_fp[rules_fp['lhs items']>1].sort_values('lift', ascending=False).head()"
   ]
  },
  {
   "cell_type": "code",
   "execution_count": 312,
   "id": "c4c71084",
   "metadata": {},
   "outputs": [],
   "source": [
    "rules_fp['antecedents_'] = rules_fp['antecedents'].apply(lambda a: ','.join(list(a)))\n",
    "rules_fp['consequents_'] = rules_fp['consequents'].apply(lambda a: ','.join(list(a)))"
   ]
  },
  {
   "cell_type": "code",
   "execution_count": 313,
   "id": "61b34695",
   "metadata": {},
   "outputs": [],
   "source": [
    "# Transform the DataFrame of rules into a matrix using the confidence metric\n",
    "pivot = rules_fp[rules_fp['lhs items']>1].pivot(index = 'antecedents_', \n",
    "                    columns = 'consequents_', values= 'confidence')"
   ]
  },
  {
   "cell_type": "code",
   "execution_count": 314,
   "id": "cfc7c3fa",
   "metadata": {},
   "outputs": [
    {
     "data": {
      "text/plain": [
       "(array([ 0.5,  1.5,  2.5,  3.5,  4.5,  5.5,  6.5,  7.5,  8.5,  9.5, 10.5,\n",
       "        11.5, 12.5, 13.5]),\n",
       " [Text(0, 0.5, 'ArtBks,DoItYBks'),\n",
       "  Text(0, 1.5, 'ChildBks,ArtBks'),\n",
       "  Text(0, 2.5, 'ChildBks,DoItYBks'),\n",
       "  Text(0, 3.5, 'ChildBks,RefBks'),\n",
       "  Text(0, 4.5, 'CookBks,ArtBks'),\n",
       "  Text(0, 5.5, 'CookBks,ChildBks'),\n",
       "  Text(0, 6.5, 'CookBks,DoItYBks'),\n",
       "  Text(0, 7.5, 'CookBks,RefBks'),\n",
       "  Text(0, 8.5, 'GeogBks,ArtBks'),\n",
       "  Text(0, 9.5, 'GeogBks,ChildBks'),\n",
       "  Text(0, 10.5, 'GeogBks,CookBks'),\n",
       "  Text(0, 11.5, 'GeogBks,DoItYBks'),\n",
       "  Text(0, 12.5, 'YouthBks,ChildBks'),\n",
       "  Text(0, 13.5, 'YouthBks,CookBks')])"
      ]
     },
     "execution_count": 314,
     "metadata": {},
     "output_type": "execute_result"
    },
    {
     "data": {
      "image/png": "[encoded data removed]",
      "text/plain": [
       "<Figure size 432x288 with 2 Axes>"
      ]
     },
     "metadata": {
      "needs_background": "light"
     },
     "output_type": "display_data"
    }
   ],
   "source": [
    "# Generate a heatmap with annotations \n",
    "sns.heatmap(pivot, annot = True)\n",
    "plt.title('Heat Map - For Confidence Metric')\n",
    "\n",
    "plt.xticks(rotation=90)\n",
    "plt.yticks(rotation=0)"
   ]
  },
  {
   "cell_type": "code",
   "execution_count": 315,
   "id": "2533a3b9",
   "metadata": {},
   "outputs": [
    {
     "data": {
      "text/html": [
       "<div>\n",
       "<style scoped>\n",
       "    .dataframe tbody tr th:only-of-type {\n",
       "        vertical-align: middle;\n",
       "    }\n",
       "\n",
       "    .dataframe tbody tr th {\n",
       "        vertical-align: top;\n",
       "    }\n",
       "\n",
       "    .dataframe thead th {\n",
       "        text-align: right;\n",
       "    }\n",
       "</style>\n",
       "<table border=\"1\" class=\"dataframe\">\n",
       "  <thead>\n",
       "    <tr style=\"text-align: right;\">\n",
       "      <th></th>\n",
       "      <th>antecedents</th>\n",
       "      <th>consequents</th>\n",
       "      <th>antecedent support</th>\n",
       "      <th>consequent support</th>\n",
       "      <th>support</th>\n",
       "      <th>confidence</th>\n",
       "      <th>lift</th>\n",
       "      <th>leverage</th>\n",
       "      <th>conviction</th>\n",
       "      <th>lhs items</th>\n",
       "      <th>antecedents_</th>\n",
       "      <th>consequents_</th>\n",
       "    </tr>\n",
       "  </thead>\n",
       "  <tbody>\n",
       "    <tr>\n",
       "      <th>94</th>\n",
       "      <td>(ChildBks, ArtBks)</td>\n",
       "      <td>(GeogBks)</td>\n",
       "      <td>0.1625</td>\n",
       "      <td>0.2760</td>\n",
       "      <td>0.1020</td>\n",
       "      <td>0.627692</td>\n",
       "      <td>2.274247</td>\n",
       "      <td>0.057150</td>\n",
       "      <td>1.944628</td>\n",
       "      <td>2</td>\n",
       "      <td>ChildBks,ArtBks</td>\n",
       "      <td>GeogBks</td>\n",
       "    </tr>\n",
       "    <tr>\n",
       "      <th>81</th>\n",
       "      <td>(CookBks, DoItYBks)</td>\n",
       "      <td>(ArtBks)</td>\n",
       "      <td>0.1875</td>\n",
       "      <td>0.2410</td>\n",
       "      <td>0.1015</td>\n",
       "      <td>0.541333</td>\n",
       "      <td>2.246196</td>\n",
       "      <td>0.056313</td>\n",
       "      <td>1.654797</td>\n",
       "      <td>2</td>\n",
       "      <td>CookBks,DoItYBks</td>\n",
       "      <td>ArtBks</td>\n",
       "    </tr>\n",
       "    <tr>\n",
       "      <th>88</th>\n",
       "      <td>(CookBks, ArtBks)</td>\n",
       "      <td>(GeogBks)</td>\n",
       "      <td>0.1670</td>\n",
       "      <td>0.2760</td>\n",
       "      <td>0.1035</td>\n",
       "      <td>0.619760</td>\n",
       "      <td>2.245509</td>\n",
       "      <td>0.057408</td>\n",
       "      <td>1.904063</td>\n",
       "      <td>2</td>\n",
       "      <td>CookBks,ArtBks</td>\n",
       "      <td>GeogBks</td>\n",
       "    </tr>\n",
       "    <tr>\n",
       "      <th>86</th>\n",
       "      <td>(GeogBks, CookBks)</td>\n",
       "      <td>(ArtBks)</td>\n",
       "      <td>0.1925</td>\n",
       "      <td>0.2410</td>\n",
       "      <td>0.1035</td>\n",
       "      <td>0.537662</td>\n",
       "      <td>2.230964</td>\n",
       "      <td>0.057107</td>\n",
       "      <td>1.641657</td>\n",
       "      <td>2</td>\n",
       "      <td>GeogBks,CookBks</td>\n",
       "      <td>ArtBks</td>\n",
       "    </tr>\n",
       "    <tr>\n",
       "      <th>58</th>\n",
       "      <td>(CookBks, ChildBks)</td>\n",
       "      <td>(RefBks)</td>\n",
       "      <td>0.2560</td>\n",
       "      <td>0.2145</td>\n",
       "      <td>0.1225</td>\n",
       "      <td>0.478516</td>\n",
       "      <td>2.230842</td>\n",
       "      <td>0.067588</td>\n",
       "      <td>1.506277</td>\n",
       "      <td>2</td>\n",
       "      <td>CookBks,ChildBks</td>\n",
       "      <td>RefBks</td>\n",
       "    </tr>\n",
       "  </tbody>\n",
       "</table>\n",
       "</div>"
      ],
      "text/plain": [
       "            antecedents consequents  antecedent support  consequent support  \\\n",
       "94   (ChildBks, ArtBks)   (GeogBks)              0.1625              0.2760   \n",
       "81  (CookBks, DoItYBks)    (ArtBks)              0.1875              0.2410   \n",
       "88    (CookBks, ArtBks)   (GeogBks)              0.1670              0.2760   \n",
       "86   (GeogBks, CookBks)    (ArtBks)              0.1925              0.2410   \n",
       "58  (CookBks, ChildBks)    (RefBks)              0.2560              0.2145   \n",
       "\n",
       "    support  confidence      lift  leverage  conviction  lhs items  \\\n",
       "94   0.1020    0.627692  2.274247  0.057150    1.944628          2   \n",
       "81   0.1015    0.541333  2.246196  0.056313    1.654797          2   \n",
       "88   0.1035    0.619760  2.245509  0.057408    1.904063          2   \n",
       "86   0.1035    0.537662  2.230964  0.057107    1.641657          2   \n",
       "58   0.1225    0.478516  2.230842  0.067588    1.506277          2   \n",
       "\n",
       "        antecedents_ consequents_  \n",
       "94   ChildBks,ArtBks      GeogBks  \n",
       "81  CookBks,DoItYBks       ArtBks  \n",
       "88    CookBks,ArtBks      GeogBks  \n",
       "86   GeogBks,CookBks       ArtBks  \n",
       "58  CookBks,ChildBks       RefBks  "
      ]
     },
     "execution_count": 315,
     "metadata": {},
     "output_type": "execute_result"
    }
   ],
   "source": [
    "\n",
    "rules_fp2['lhs items'] = rules_fp2['antecedents'].apply(lambda x:len(x) )\n",
    "rules_fp2[rules_fp2['lhs items']>1].sort_values('lift', ascending=False).head()\n"
   ]
  },
  {
   "cell_type": "code",
   "execution_count": 316,
   "id": "bc889aed",
   "metadata": {},
   "outputs": [],
   "source": [
    "# Replace frozen sets with strings\n",
    "rules_fp2['antecedents_'] = rules_fp2['antecedents'].apply(lambda a: ','.join(list(a)))\n",
    "rules_fp2['consequents_'] = rules_fp2['consequents'].apply(lambda a: ','.join(list(a)))\n",
    "# Transform the DataFrame of rules into a matrix using the lift metric\n",
    "pivot = rules_fp2[rules_fp2['lhs items']>1].pivot(index = 'antecedents_', \n",
    "                    columns = 'consequents_', values= 'lift')"
   ]
  },
  {
   "cell_type": "code",
   "execution_count": 317,
   "id": "93e6125b",
   "metadata": {},
   "outputs": [
    {
     "data": {
      "text/plain": [
       "(array([0.5, 1.5, 2.5, 3.5, 4.5, 5.5, 6.5]),\n",
       " [Text(0.5, 0, 'ArtBks'),\n",
       "  Text(1.5, 0, 'ChildBks'),\n",
       "  Text(2.5, 0, 'CookBks'),\n",
       "  Text(3.5, 0, 'DoItYBks'),\n",
       "  Text(4.5, 0, 'GeogBks'),\n",
       "  Text(5.5, 0, 'RefBks'),\n",
       "  Text(6.5, 0, 'YouthBks')])"
      ]
     },
     "execution_count": 317,
     "metadata": {},
     "output_type": "execute_result"
    },
    {
     "data": {
      "image/png": "[encoded data removed]",
      "text/plain": [
       "<Figure size 432x288 with 2 Axes>"
      ]
     },
     "metadata": {
      "needs_background": "light"
     },
     "output_type": "display_data"
    }
   ],
   "source": [
    "# Generate a heatmap with annotations on and the colorbar off\n",
    "sns.heatmap(pivot, annot = True)\n",
    "plt.title('Heat Map - For Lift Metric')\n",
    "plt.yticks(rotation=0)\n",
    "plt.xticks(rotation=90)"
   ]
  },
  {
   "cell_type": "code",
   "execution_count": null,
   "id": "c059cc0d",
   "metadata": {},
   "outputs": [],
   "source": []
  }
 ],
 "metadata": {
  "kernelspec": {
   "display_name": "Python 3 (ipykernel)",
   "language": "python",
   "name": "python3"
  },
  "language_info": {
   "codemirror_mode": {
    "name": "ipython",
    "version": 3
   },
   "file_extension": ".py",
   "mimetype": "text/x-python",
   "name": "python",
   "nbconvert_exporter": "python",
   "pygments_lexer": "ipython3",
   "version": "3.9.12"
  }
 },
 "nbformat": 4,
 "nbformat_minor": 5
}
